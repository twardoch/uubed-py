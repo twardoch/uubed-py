{
 "cells": [
  {
   "cell_type": "markdown",
   "metadata": {},
   "source": [
    "# uubed Basic Usage\n",
    "\n",
    "This notebook demonstrates the basic usage of uubed for encoding and decoding embedding vectors."
   ]
  },
  {
   "cell_type": "code",
   "execution_count": null,
   "metadata": {},
   "outputs": [],
   "source": [
    "import numpy as np\n",
    "from uubed import encode, decode\n",
    "\n",
    "# Display version\n",
    "import uubed\n",
    "print(f\"uubed version: {uubed.__version__}\")"
   ]
  },
  {
   "cell_type": "markdown",
   "metadata": {},
   "source": [
    "## 1. Basic Encoding and Decoding\n",
    "\n",
    "Let's start with a simple example of encoding and decoding a small embedding vector."
   ]
  },
  {
   "cell_type": "code",
   "execution_count": null,
   "metadata": {},
   "outputs": [],
   "source": [
    "# Create a random embedding vector\n",
    "embedding = np.random.randint(0, 256, 32, dtype=np.uint8)\n",
    "print(f\"Original embedding shape: {embedding.shape}\")\n",
    "print(f\"First 10 values: {embedding[:10]}\")"
   ]
  },
  {
   "cell_type": "code",
   "execution_count": null,
   "metadata": {},
   "outputs": [],
   "source": [
    "# Encode using the default method (auto-selects based on size)\n",
    "encoded = encode(embedding)\n",
    "print(f\"Encoded string: {encoded}\")\n",
    "print(f\"Encoded length: {len(encoded)} characters\")"
   ]
  },
  {
   "cell_type": "code",
   "execution_count": null,
   "metadata": {},
   "outputs": [],
   "source": [
    "# Decode back to bytes (only works with eq64 method)\n",
    "encoded_eq64 = encode(embedding, method=\"eq64\")\n",
    "decoded = decode(encoded_eq64, method=\"eq64\")\n",
    "decoded_array = np.frombuffer(decoded, dtype=np.uint8)\n",
    "\n",
    "print(f\"Decoded shape: {decoded_array.shape}\")\n",
    "print(f\"Decoded matches original: {np.array_equal(embedding, decoded_array)}\")"
   ]
  },
  {
   "cell_type": "markdown",
   "metadata": {},
   "source": [
    "## 2. Different Encoding Methods\n",
    "\n",
    "uubed provides several encoding methods optimized for different use cases:"
   ]
  },
  {
   "cell_type": "code",
   "execution_count": null,
   "metadata": {},
   "outputs": [],
   "source": [
    "# Create a larger embedding for demonstration\n",
    "large_embedding = np.random.randint(0, 256, 768, dtype=np.uint8)\n",
    "\n",
    "# Compare different encoding methods\n",
    "methods = {\n",
    "    \"eq64\": \"Full precision (lossless)\",\n",
    "    \"shq64\": \"SimHash (compact, similarity-preserving)\",\n",
    "    \"t8q64\": \"Top-K indices (sparse representation)\",\n",
    "    \"zoq64\": \"Z-order (spatial locality)\"\n",
    "}\n",
    "\n",
    "for method, description in methods.items():\n",
    "    if method == \"t8q64\":\n",
    "        encoded = encode(large_embedding, method=method, k=8)\n",
    "    elif method == \"shq64\":\n",
    "        encoded = encode(large_embedding, method=method, planes=64)\n",
    "    else:\n",
    "        encoded = encode(large_embedding, method=method)\n",
    "    \n",
    "    print(f\"\\n{method}: {description}\")\n",
    "    print(f\"  Encoded: {encoded[:32]}...\")\n",
    "    print(f\"  Length: {len(encoded)} characters\")"
   ]
  },
  {
   "cell_type": "markdown",
   "metadata": {},
   "source": [
    "## 3. Working with Different Input Types\n",
    "\n",
    "uubed can handle various input formats:"
   ]
  },
  {
   "cell_type": "code",
   "execution_count": null,
   "metadata": {},
   "outputs": [],
   "source": [
    "# From bytes\n",
    "byte_data = b\"Hello, uubed! This is a test.\"\n",
    "encoded_bytes = encode(byte_data, method=\"eq64\")\n",
    "print(f\"From bytes: {encoded_bytes[:40]}...\")\n",
    "\n",
    "# From list of integers\n",
    "int_list = [72, 101, 108, 108, 111]  # \"Hello\" in ASCII\n",
    "encoded_list = encode(int_list, method=\"eq64\")\n",
    "print(f\"From list: {encoded_list}\")\n",
    "\n",
    "# From numpy array\n",
    "np_array = np.array([72, 101, 108, 108, 111], dtype=np.uint8)\n",
    "encoded_array = encode(np_array, method=\"eq64\")\n",
    "print(f\"From numpy: {encoded_array}\")"
   ]
  },
  {
   "cell_type": "markdown",
   "metadata": {},
   "source": [
    "## 4. Performance Comparison\n",
    "\n",
    "Let's compare the performance of different encoding methods:"
   ]
  },
  {
   "cell_type": "code",
   "execution_count": null,
   "metadata": {},
   "outputs": [],
   "source": [
    "import time\n",
    "\n",
    "# Generate test data\n",
    "test_embeddings = [np.random.randint(0, 256, 768, dtype=np.uint8) for _ in range(100)]\n",
    "\n",
    "# Benchmark each method\n",
    "results = {}\n",
    "for method in [\"eq64\", \"shq64\", \"t8q64\", \"zoq64\"]:\n",
    "    start_time = time.time()\n",
    "    \n",
    "    for emb in test_embeddings:\n",
    "        if method == \"t8q64\":\n",
    "            encode(emb, method=method, k=8)\n",
    "        else:\n",
    "            encode(emb, method=method)\n",
    "    \n",
    "    elapsed = time.time() - start_time\n",
    "    results[method] = elapsed\n",
    "\n",
    "# Display results\n",
    "print(\"Performance Results (100 embeddings, 768 dimensions):\")\n",
    "print(\"-\" * 50)\n",
    "for method, elapsed in sorted(results.items(), key=lambda x: x[1]):\n",
    "    print(f\"{method:8s}: {elapsed:.4f}s ({100/elapsed:.1f} embeddings/sec)\")"
   ]
  },
  {
   "cell_type": "markdown",
   "metadata": {},
   "source": [
    "## 5. Error Handling\n",
    "\n",
    "uubed provides clear error messages for common issues:"
   ]
  },
  {
   "cell_type": "code",
   "execution_count": null,
   "metadata": {},
   "outputs": [],
   "source": [
    "# Invalid input values\n",
    "try:\n",
    "    invalid_embedding = [0, 100, 300, 50]  # 300 is out of range\n",
    "    encode(invalid_embedding)\n",
    "except ValueError as e:\n",
    "    print(f\"ValueError: {e}\")\n",
    "\n",
    "# Invalid decoding\n",
    "try:\n",
    "    compressed = encode(embedding, method=\"shq64\")\n",
    "    decode(compressed, method=\"shq64\")  # shq64 is lossy, can't decode\n",
    "except NotImplementedError as e:\n",
    "    print(f\"\\nNotImplementedError: {e}\")"
   ]
  },
  {
   "cell_type": "markdown",
   "metadata": {},
   "source": [
    "## Summary\n",
    "\n",
    "In this notebook, we covered:\n",
    "1. Basic encoding and decoding with uubed\n",
    "2. Different encoding methods and their use cases\n",
    "3. Working with various input types\n",
    "4. Performance comparison\n",
    "5. Error handling\n",
    "\n",
    "Key takeaways:\n",
    "- **eq64** provides full precision and is the only reversible encoding\n",
    "- **shq64** is best for compact similarity-preserving codes\n",
    "- **t8q64** works well for sparse representations\n",
    "- **zoq64** maintains spatial locality for range queries\n",
    "\n",
    "Next, check out the streaming API notebook for handling large datasets!"
   ]
  }
 ],
 "metadata": {
  "kernelspec": {
   "display_name": "Python 3",
   "language": "python",
   "name": "python3"
  },
  "language_info": {
   "codemirror_mode": {
    "name": "ipython",
    "version": 3
   },
   "file_extension": ".py",
   "mimetype": "text/x-python",
   "name": "python",
   "nbconvert_exporter": "python",
   "pygments_lexer": "ipython3"
  }
 },
 "nbformat": 4,
 "nbformat_minor": 4
}